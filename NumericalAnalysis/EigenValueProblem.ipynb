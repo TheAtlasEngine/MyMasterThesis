{
 "cells": [
  {
   "cell_type": "code",
   "execution_count": 8,
   "metadata": {},
   "outputs": [],
   "source": [
    "import numpy as np\n",
    "import scipy.linalg\n",
    "import matplotlib.pyplot as plt"
   ]
  },
  {
   "cell_type": "code",
   "execution_count": 3,
   "metadata": {},
   "outputs": [
    {
     "name": "stdout",
     "output_type": "stream",
     "text": [
      "[[-32  16   0]\n",
      " [ 16 -32  16]\n",
      " [  0  16 -32]]\n"
     ]
    }
   ],
   "source": [
    "A = np.array([[-32, 16, 0], [16, -32, 16], [0, 16, -32]])\n",
    "print(A)"
   ]
  },
  {
   "cell_type": "code",
   "execution_count": 4,
   "metadata": {},
   "outputs": [
    {
     "name": "stdout",
     "output_type": "stream",
     "text": [
      "eigenValue = [-54.627417+0.j -32.      +0.j  -9.372583+0.j]\n",
      "eigenVector = [[ 5.00000000e-01  7.07106781e-01  5.00000000e-01]\n",
      " [-7.07106781e-01 -4.05925293e-16  7.07106781e-01]\n",
      " [ 5.00000000e-01 -7.07106781e-01  5.00000000e-01]]\n"
     ]
    }
   ],
   "source": [
    "eigenValue, eigenVector = scipy.linalg.eig(A)  # Store the result of the eigen values and the eigen vectors\n",
    "print(\"eigenValue = {}\".format(eigenValue))\n",
    "print(\"eigenVector = {}\".format(eigenVector))"
   ]
  },
  {
   "cell_type": "code",
   "execution_count": 5,
   "metadata": {},
   "outputs": [
    {
     "data": {
      "text/plain": [
       "array([[1., 0., 0.],\n",
       "       [0., 1., 0.],\n",
       "       [0., 0., 1.]])"
      ]
     },
     "execution_count": 5,
     "metadata": {},
     "output_type": "execute_result"
    }
   ],
   "source": [
    "K = np.eye(3, 3)\n",
    "K"
   ]
  },
  {
   "cell_type": "code",
   "execution_count": 7,
   "metadata": {},
   "outputs": [
    {
     "data": {
      "text/plain": [
       "array([[0., 1., 0.],\n",
       "       [0., 0., 1.],\n",
       "       [0., 0., 0.]])"
      ]
     },
     "execution_count": 7,
     "metadata": {},
     "output_type": "execute_result"
    }
   ],
   "source": [
    "K_sub = np.vstack((K[1:], np.array([0] * 3)))\n",
    "K_sub"
   ]
  },
  {
   "cell_type": "code",
   "execution_count": 9,
   "metadata": {},
   "outputs": [],
   "source": [
    "# Solve the Schrodinger Equation of a harmonic oscillator system"
   ]
  },
  {
   "cell_type": "code",
   "execution_count": 19,
   "metadata": {},
   "outputs": [],
   "source": [
    "L = 10\n",
    "N = 200\n",
    "x = np.linspace(-L / 2, L / 2, N)\n",
    "dx = L / N"
   ]
  },
  {
   "cell_type": "code",
   "execution_count": 20,
   "metadata": {},
   "outputs": [],
   "source": [
    "# Kinetic term in the Hamiltonian\n",
    "K = np.eye(N, N)\n",
    "K_sub = np.vstack((K[1:], np.array([0] * N)))\n",
    "K = dx ** (-2) * (2 * K - K_sub - K_sub.T)"
   ]
  },
  {
   "cell_type": "code",
   "execution_count": 12,
   "metadata": {},
   "outputs": [],
   "source": [
    "# Potential term in the Hamiltonian\n",
    "V = np.diag(np.linspace(-L / 2, L / 2, N) ** 2)"
   ]
  },
  {
   "cell_type": "code",
   "execution_count": 21,
   "metadata": {},
   "outputs": [],
   "source": [
    "# The Hamiltonain of the system\n",
    "H = (K + V) / 2"
   ]
  },
  {
   "cell_type": "code",
   "execution_count": 22,
   "metadata": {},
   "outputs": [
    {
     "data": {
      "text/plain": [
       "array([[ 2.61468851e-07, -1.77682750e-06,  8.33742323e-06, ...,\n",
       "        -2.11840734e-02, -2.31278625e-02,  2.31278625e-02],\n",
       "       [ 5.38622651e-07, -3.65131706e-06,  1.70912367e-05, ...,\n",
       "         4.14954279e-02,  4.56902107e-02, -4.56902107e-02],\n",
       "       [ 8.47413996e-07, -5.72193461e-06,  2.66772626e-05, ...,\n",
       "        -6.01491656e-02, -6.71924690e-02,  6.71924690e-02],\n",
       "       ...,\n",
       "       [ 8.47413996e-07,  5.72193461e-06,  2.66772626e-05, ...,\n",
       "         6.01491656e-02, -6.71924690e-02, -6.71924690e-02],\n",
       "       [ 5.38622651e-07,  3.65131706e-06,  1.70912367e-05, ...,\n",
       "        -4.14954279e-02,  4.56902107e-02,  4.56902107e-02],\n",
       "       [ 2.61468851e-07,  1.77682750e-06,  8.33742323e-06, ...,\n",
       "         2.11840734e-02, -2.31278625e-02, -2.31278625e-02]])"
      ]
     },
     "execution_count": 22,
     "metadata": {},
     "output_type": "execute_result"
    }
   ],
   "source": [
    "eigenValue, eigenVector = np.linalg.eigh(H)\n",
    "eigenValue\n",
    "eigenVector"
   ]
  },
  {
   "cell_type": "code",
   "execution_count": 23,
   "metadata": {},
   "outputs": [
    {
     "data": {
      "image/png": "[encoded data removed]",
      "text/plain": [
       "<Figure size 432x288 with 1 Axes>"
      ]
     },
     "metadata": {},
     "output_type": "display_data"
    }
   ],
   "source": [
    "for i in range(3):\n",
    "    plt.plot(x, eigenVector.T[i])"
   ]
  },
  {
   "cell_type": "code",
   "execution_count": null,
   "metadata": {},
   "outputs": [],
   "source": []
  }
 ],
 "metadata": {
  "kernelspec": {
   "display_name": "Python 3",
   "language": "python",
   "name": "python3"
  },
  "language_info": {
   "codemirror_mode": {
    "name": "ipython",
    "version": 3
   },
   "file_extension": ".py",
   "mimetype": "text/x-python",
   "name": "python",
   "nbconvert_exporter": "python",
   "pygments_lexer": "ipython3",
   "version": "3.6.4"
  }
 },
 "nbformat": 4,
 "nbformat_minor": 2
}
