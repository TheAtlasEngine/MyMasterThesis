{
 "cells": [
  {
   "cell_type": "code",
   "execution_count": 1,
   "metadata": {},
   "outputs": [],
   "source": [
    "import matplotlib.pyplot as plt\n",
    "import numpy as np"
   ]
  },
  {
   "cell_type": "code",
   "execution_count": 2,
   "metadata": {},
   "outputs": [],
   "source": [
    "def x(n, m):\n",
    "    if n == m:\n",
    "        return 0.5\n",
    "    else:\n",
    "        a = (1 - (-1) ** (n + m)) / np.pi ** 2\n",
    "        b = 1 / (n + m) ** 2 - 1 / (n - m) ** 2\n",
    "        return a * b"
   ]
  },
  {
   "cell_type": "code",
   "execution_count": 3,
   "metadata": {},
   "outputs": [],
   "source": [
    "def Energy(n):\n",
    "    return (np.pi ** 2) * (n * n)\n",
    "\n",
    "def E(n, m):\n",
    "    return Energy(n) - Energy(m)"
   ]
  },
  {
   "cell_type": "code",
   "execution_count": 4,
   "metadata": {},
   "outputs": [],
   "source": [
    "def b(n, m, t):\n",
    "    k_max = 1000\n",
    "    terms_k = 0\n",
    "    for k in range(k_max):\n",
    "        terms_k += 0.5 * x(n, k) * x(k, m) * (E(k, m) * np.exp(1j * E(n, k) * t) - E(n, k) * np.exp(1j * E(k, m) * t))\n",
    "    return terms_k"
   ]
  },
  {
   "cell_type": "code",
   "execution_count": 5,
   "metadata": {},
   "outputs": [],
   "source": [
    "def c(n, t):\n",
    "    m_max = 1000\n",
    "    terms_m = 0\n",
    "    for m in range(m_max):\n",
    "        terms_m += b(n, m, t) * b(n, m, t).conjugate()\n",
    "    return terms_m.real"
   ]
  },
  {
   "cell_type": "code",
   "execution_count": 6,
   "metadata": {},
   "outputs": [],
   "source": [
    "t = np.linspace(0, 0.8, 100)"
   ]
  },
  {
   "cell_type": "code",
   "execution_count": null,
   "metadata": {},
   "outputs": [],
   "source": [
    "plt.yscale(\"log\") # log scale\n",
    "for n in (1, 2, 5, 10):\n",
    "    plt.plot(t, c(n, t))"
   ]
  },
  {
   "cell_type": "code",
   "execution_count": null,
   "metadata": {},
   "outputs": [],
   "source": []
  }
 ],
 "metadata": {
  "kernelspec": {
   "display_name": "Python 3",
   "language": "python",
   "name": "python3"
  },
  "language_info": {
   "codemirror_mode": {
    "name": "ipython",
    "version": 3
   },
   "file_extension": ".py",
   "mimetype": "text/x-python",
   "name": "python",
   "nbconvert_exporter": "python",
   "pygments_lexer": "ipython3",
   "version": "3.6.5"
  }
 },
 "nbformat": 4,
 "nbformat_minor": 2
}
