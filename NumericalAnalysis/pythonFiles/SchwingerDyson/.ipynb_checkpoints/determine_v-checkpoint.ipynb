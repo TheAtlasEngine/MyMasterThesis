{
 "cells": [
  {
   "cell_type": "code",
   "execution_count": 1,
   "metadata": {},
   "outputs": [],
   "source": [
    "import numpy as np\n",
    "import matplotlib.pyplot as plt"
   ]
  },
  {
   "cell_type": "code",
   "execution_count": 2,
   "metadata": {},
   "outputs": [],
   "source": [
    "v = np.linspace(0, 1, 10000, endpoint=False)\n",
    "J = (np.sqrt(2) * np.pi * v) / np.cos(np.pi * v / 2)"
   ]
  },
  {
   "cell_type": "code",
   "execution_count": 3,
   "metadata": {},
   "outputs": [
    {
     "data": {
      "image/png": "[encoded data removed]",
      "text/plain": [
       "<Figure size 432x288 with 1 Axes>"
      ]
     },
     "metadata": {
      "needs_background": "light"
     },
     "output_type": "display_data"
    }
   ],
   "source": [
    "plt.plot(v, J)\n",
    "plt.grid(True)\n",
    "plt.show()"
   ]
  },
  {
   "cell_type": "code",
   "execution_count": 4,
   "metadata": {},
   "outputs": [],
   "source": [
    "epsilon = 0.0001\n",
    "for j in J:\n",
    "    if 50 - epsilon < j < 50 + epsilon:\n",
    "        print(J.index(j))"
   ]
  },
  {
   "cell_type": "code",
   "execution_count": 5,
   "metadata": {},
   "outputs": [
    {
     "name": "stdout",
     "output_type": "stream",
     "text": [
      "[0.00000000e+00 4.44343111e-02 8.89015263e-02 1.33434617e-01\n",
      " 1.78066691e-01 2.22831061e-01 2.67761310e-01 3.12891371e-01\n",
      " 3.58255587e-01 4.03888797e-01 4.49826403e-01 4.96104453e-01\n",
      " 5.42759719e-01 5.89829787e-01 6.37353139e-01 6.85369248e-01\n",
      " 7.33918675e-01 7.83043171e-01 8.32785783e-01 8.83190968e-01\n",
      " 9.34304715e-01 9.86174671e-01 1.03885028e+00 1.09238291e+00\n",
      " 1.14682606e+00 1.20223546e+00 1.25866929e+00 1.31618837e+00\n",
      " 1.37485635e+00 1.43473996e+00 1.49590923e+00 1.55843774e+00\n",
      " 1.62240295e+00 1.68788646e+00 1.75497437e+00 1.82375766e+00\n",
      " 1.89433253e+00 1.96680092e+00 2.04127091e+00 2.11785729e+00\n",
      " 2.19668213e+00 2.27787539e+00 2.36157565e+00 2.44793084e+00\n",
      " 2.53709915e+00 2.62924992e+00 2.72456471e+00 2.82323850e+00\n",
      " 2.92548092e+00 3.03151778e+00 3.14159265e+00 3.25596872e+00\n",
      " 3.37493082e+00 3.49878778e+00 3.62787500e+00 3.76255749e+00\n",
      " 3.90323315e+00 4.05033670e+00 4.20434402e+00 4.36577721e+00\n",
      " 4.53521036e+00 4.71327624e+00 4.90067405e+00 5.09817836e+00\n",
      " 5.30664966e+00 5.52704659e+00 5.76044041e+00 6.00803207e+00\n",
      " 6.27117251e+00 6.55138684e+00 6.85040339e+00 7.17018875e+00\n",
      " 7.51299037e+00 7.88138853e+00 8.27836041e+00 8.70735946e+00\n",
      " 9.17241463e+00 9.67825553e+00 1.02304717e+01 1.08357171e+01\n",
      " 1.15019770e+01 1.22389172e+01 1.30583518e+01 1.39748748e+01\n",
      " 1.50067287e+01 1.61770208e+01 1.75154605e+01 1.90608990e+01\n",
      " 2.08651380e+01 2.29988164e+01 2.55608292e+01 2.86940250e+01\n",
      " 3.26126773e+01 3.76535023e+01 4.43776943e+01 5.37954045e+01\n",
      " 6.79269363e+01 9.14863333e+01 1.38615729e+02 2.80025801e+02]\n"
     ]
    }
   ],
   "source": [
    "print(J)"
   ]
  },
  {
   "cell_type": "code",
   "execution_count": null,
   "metadata": {},
   "outputs": [],
   "source": []
  }
 ],
 "metadata": {
  "kernelspec": {
   "display_name": "Python 3",
   "language": "python",
   "name": "python3"
  },
  "language_info": {
   "codemirror_mode": {
    "name": "ipython",
    "version": 3
   },
   "file_extension": ".py",
   "mimetype": "text/x-python",
   "name": "python",
   "nbconvert_exporter": "python",
   "pygments_lexer": "ipython3",
   "version": "3.6.4"
  }
 },
 "nbformat": 4,
 "nbformat_minor": 2
}
