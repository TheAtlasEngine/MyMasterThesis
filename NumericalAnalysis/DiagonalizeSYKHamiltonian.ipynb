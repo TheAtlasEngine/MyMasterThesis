{
 "cells": [
  {
   "cell_type": "code",
   "execution_count": 99,
   "metadata": {},
   "outputs": [],
   "source": [
    "import numpy as np\n",
    "import scipy.linalg\n",
    "import matplotlib.pyplot as plt\n",
    "import random\n",
    "import itertools"
   ]
  },
  {
   "cell_type": "code",
   "execution_count": 117,
   "metadata": {},
   "outputs": [],
   "source": [
    "def delta(a, b):\n",
    "    '''\n",
    "    The Kronecker delta function\n",
    "    \n",
    "    a = b  -> return 1\n",
    "    a != b -> return 0\n",
    "    '''\n",
    "    if a == b:\n",
    "        return 1\n",
    "    return 0"
   ]
  },
  {
   "cell_type": "code",
   "execution_count": 27,
   "metadata": {},
   "outputs": [],
   "source": [
    "# NOTE: The number of partcile must be an even integer\n",
    "\n",
    "numberOfParticles = 8\n",
    "if numberOfParticles % 2 != 0:\n",
    "    raise ValueError"
   ]
  },
  {
   "cell_type": "code",
   "execution_count": 11,
   "metadata": {},
   "outputs": [],
   "source": [
    "# ----------------------------------\n",
    "# Create the random coupling tensor\n",
    "# ----------------------------------\n",
    "\n",
    "random.seed()\n",
    "\n",
    "N = numberOfParticles\n",
    "\n",
    "J = np.zeros((N, N, N, N))  # Initialize the tensor with zeros\n",
    "for a in range(N):          # Insert random numbers to J\n",
    "    for b in range(N):\n",
    "        for c in range(N):\n",
    "            for d in range(N):\n",
    "                J[a, b, c, d] = random.gauss(0, 6.0 / (N * N * N))\n",
    "\n",
    "for a in range(N):          # Make the tensor J be totally anti symmetric\n",
    "    for b in range(N):\n",
    "        for c in range(N):\n",
    "            for d in range(N):\n",
    "                if a == b or a == c or a == d or b == c or b == d or c == d:\n",
    "                    J[a, b, c, d] = 0\n",
    "                if a < b < c < d:\n",
    "                    J[a, b, d, c] = -J[a, b, c, d]\n",
    "                    J[a, c, b, d] = -J[a, b, c, d]\n",
    "                    J[a, d, c, b] = -J[a, b, c, d]\n",
    "                    \n",
    "                    J[b, a, c, d] = -J[a, b, c, d]\n",
    "                    J[b, c, d, a] = -J[a, b, c, d]\n",
    "                    J[b, d, a, c] = -J[a, b, c, d]\n",
    "                    \n",
    "                    J[c, a, d, b] = -J[a, b, c, d]\n",
    "                    J[c, b, a, d] = -J[a, b, c, d]\n",
    "                    J[c, d, b, a] = -J[a, b, c, d]\n",
    "                    \n",
    "                    J[d, a, b, c] = -J[a, b, c, d]\n",
    "                    J[d, b, c, a] = -J[a, b, c, d]\n",
    "                    J[d, c, a, b] = -J[a, b, c, d]\n",
    "                    \n",
    "                    J[a, c, d, b] = J[a, b, c, d]\n",
    "                    J[a, d, b, c] = J[a, b, c, d]\n",
    "                    \n",
    "                    J[b, a, d, c] = J[a, b, c, d]\n",
    "                    J[b, c, a, d] = J[a, b, c, d]\n",
    "                    J[b, d, c, a] = J[a, b, c, d]\n",
    "                    \n",
    "                    J[c, a, b, d] = J[a, b, c, d]\n",
    "                    J[c, b, d, a] = J[a, b, c, d]\n",
    "                    J[c, d, a, b] = J[a, b, c, d]\n",
    "                    \n",
    "                    J[d, a, c, b] = J[a, b, c, d]\n",
    "                    J[d, b, a, c] = J[a, b, c, d]\n",
    "                    J[d, c, b, a] = J[a, b, c, d]"
   ]
  },
  {
   "cell_type": "code",
   "execution_count": 147,
   "metadata": {},
   "outputs": [],
   "source": [
    "#\n",
    "# Create an array which has state vectors in the Fock space as its entries\n",
    "# The creation/annihilation opetators is defined by the following:\n",
    "#     c_i          = (psi_2i - i psi_(2i-1)) / sqrt(2)\n",
    "#     c_i^dagger   = (psi_2i + i psi_(2i-1)) / sqrt(2)\n",
    "# where i runs from 1 to the half of the number of particles\n",
    "#\n",
    "# For example, if the number of particles is 4 then\n",
    "# stateVectorArray = [[0,0], [0,1], [1,0], [1,1]]\n",
    "#\n",
    "\n",
    "N = int(numberOfParticles / 2)\n",
    "\n",
    "stateVectorArray = []\n",
    "stateVector      = [0 for _ in range(N)]\n",
    "\n",
    "def createAllPatterns(i):\n",
    "    global stateVectorArray\n",
    "    global stateVector\n",
    "    \n",
    "    if i == N:\n",
    "        print(stateVector)\n",
    "        return\n",
    "    \n",
    "    createAllPatterns(i + 1)\n",
    "    stateVector[i] = 1\n",
    "    createAllPatterns(i + 1)\n",
    "    stateVector[i] = 0"
   ]
  },
  {
   "cell_type": "code",
   "execution_count": 148,
   "metadata": {},
   "outputs": [
    {
     "name": "stdout",
     "output_type": "stream",
     "text": [
      "[0, 0, 0, 0]\n",
      "[0, 0, 0, 1]\n",
      "[0, 0, 1, 0]\n",
      "[0, 0, 1, 1]\n",
      "[0, 1, 0, 0]\n",
      "[0, 1, 0, 1]\n",
      "[0, 1, 1, 0]\n",
      "[0, 1, 1, 1]\n",
      "[1, 0, 0, 0]\n",
      "[1, 0, 0, 1]\n",
      "[1, 0, 1, 0]\n",
      "[1, 0, 1, 1]\n",
      "[1, 1, 0, 0]\n",
      "[1, 1, 0, 1]\n",
      "[1, 1, 1, 0]\n",
      "[1, 1, 1, 1]\n"
     ]
    }
   ],
   "source": [
    "createAllPatterns(0)"
   ]
  },
  {
   "cell_type": "code",
   "execution_count": 149,
   "metadata": {},
   "outputs": [
    {
     "data": {
      "text/plain": [
       "[0, 0, 0, 0]"
      ]
     },
     "execution_count": 149,
     "metadata": {},
     "output_type": "execute_result"
    }
   ],
   "source": [
    "stateVector"
   ]
  },
  {
   "cell_type": "code",
   "execution_count": null,
   "metadata": {},
   "outputs": [],
   "source": []
  }
 ],
 "metadata": {
  "kernelspec": {
   "display_name": "Python 3",
   "language": "python",
   "name": "python3"
  },
  "language_info": {
   "codemirror_mode": {
    "name": "ipython",
    "version": 3
   },
   "file_extension": ".py",
   "mimetype": "text/x-python",
   "name": "python",
   "nbconvert_exporter": "python",
   "pygments_lexer": "ipython3",
   "version": "3.6.5"
  }
 },
 "nbformat": 4,
 "nbformat_minor": 2
}
